{
 "cells": [
  {
   "cell_type": "code",
   "execution_count": 3,
   "id": "8cd5bcdb",
   "metadata": {},
   "outputs": [],
   "source": [
    "# solve ddll error => https://github.com/conda/conda/issues/11795#issuecomment-1335666474\n",
    "# this worked\n",
    "# pip install rdkit --user"
   ]
  },
  {
   "cell_type": "markdown",
   "id": "9f808bae",
   "metadata": {},
   "source": [
    "1. Five or fewer H-bond donors.\n",
    "2. Ten or fewer H-bond acceptors.\n",
    "3. Molecular weight under 500 daltons.\n",
    "4. LogP lower than 5.\n",
    "5. Fewer than two violations of the above four rules."
   ]
  },
  {
   "cell_type": "code",
   "execution_count": 44,
   "id": "eb4d1f09",
   "metadata": {},
   "outputs": [],
   "source": [
    "import pandas as pd\n",
    "from rdkit import Chem\n",
    "from rdkit.Chem import Lipinski, Crippen, Descriptors\n",
    "\n",
    "load_mol = pd.read_csv('result3/combined_zinc_ki_best_50.csv')\n",
    "\n",
    "molSmile = []\n",
    "molWeight = []\n",
    "hbAcceptor = []\n",
    "hbDonor =[]\n",
    "rotBond = []\n",
    "molLogP = []\n",
    "lipStatus = []\n",
    "\n",
    "mol_smi = load_mol['molecule_smile']\n",
    "\n",
    "for index in range(0,50):\n",
    "    \n",
    "    # convert smile to molecule\n",
    "    mol_smile = Chem.MolFromSmiles(mol_smi[index])\n",
    "    \n",
    "    # Calculate the number of hydrogen bond acceptors\n",
    "    hb_acceptor = Lipinski.NumHAcceptors(mol_smile)\n",
    "    hbAcceptor.append(hb_acceptor)\n",
    "    \n",
    "    # Calculate the number of hydrogen bond donors\n",
    "    hb_donor = Lipinski.NumHDonors(mol_smile)\n",
    "    hbDonor.append(hb_donor)\n",
    "    \n",
    "    # Calculate the molecular weight\n",
    "    mol_weight = Descriptors.MolWt(mol_smile)\n",
    "    molWeight.append(mol_weight)\n",
    "    \n",
    "    # Calculate the number of rotatable bonds\n",
    "    rot_bond = Lipinski.NumRotatableBonds(mol_smile)\n",
    "    rotBond.append(rot_bond)\n",
    "    \n",
    "    # Calculate the logarithm of the partition coefficient (LgP, a measures the solubility of drug in oil(octanol) vs water\n",
    "    mol_logP = Crippen.MolLogP(mol_smile)\n",
    "    molLogP.append(mol_logP)\n",
    "    \n",
    "    # Determine drugability of the molecule if it pass the rule below\n",
    "    if mol_weight <= 500 and hb_acceptor <= 10 and hb_donor <= 5 and rot_bond <= 10 and mol_logP <= 5:\n",
    "        lipStatus.append('PASS')\n",
    "    else:\n",
    "        lipStatus.append('FAIL')\n",
    "    \n",
    "# convert to dataFrame\n",
    "lipinski_df = pd.DataFrame({\"molecule_id\": load_mol['Name'], 'molSmile': load_mol['molecule_smile'],   \n",
    "                            \"mol_weight\": molWeight, 'hbAccpetor': hbAcceptor, 'hb_donor':hbDonor, \n",
    "                            'rotatable bond': rotBond, 'molLogP':molLogP, \"Lipinski Status\": lipStatus })\n",
    "lipinski_df.to_csv('result3/zinc_molecule_lipinski_result.csv', index=False)\n"
   ]
  },
  {
   "cell_type": "code",
   "execution_count": null,
   "id": "59d40f24",
   "metadata": {},
   "outputs": [],
   "source": [
    "# \"molWeight\": molWeight, 'hbAccpetor': hbAccpetor, 'hbDonor':hbDonor,"
   ]
  }
 ],
 "metadata": {
  "kernelspec": {
   "display_name": "Python 3 (ipykernel)",
   "language": "python",
   "name": "python3"
  },
  "language_info": {
   "codemirror_mode": {
    "name": "ipython",
    "version": 3
   },
   "file_extension": ".py",
   "mimetype": "text/x-python",
   "name": "python",
   "nbconvert_exporter": "python",
   "pygments_lexer": "ipython3",
   "version": "3.10.9"
  }
 },
 "nbformat": 4,
 "nbformat_minor": 5
}
